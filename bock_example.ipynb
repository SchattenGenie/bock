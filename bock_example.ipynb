{
 "cells": [
  {
   "cell_type": "code",
   "execution_count": 1,
   "metadata": {},
   "outputs": [],
   "source": [
    "import torch\n",
    "import bock\n",
    "from bock import SingleTaskGP, ExpectedImprovement, bo_step, CustomCylindricalGP\n",
    "from IPython.display import clear_output\n",
    "def opt_func(X):\n",
    "    return X.norm(dim=1)"
   ]
  },
  {
   "cell_type": "code",
   "execution_count": 2,
   "metadata": {},
   "outputs": [],
   "source": [
    "# dimensionality of the problem\n",
    "n_dim = 5\n",
    "# number of init measurements\n",
    "num_init = 20\n",
    "# size of search space\n",
    "x_step = 5.\n",
    "# center of search space\n",
    "center = 0.7\n",
    "\n",
    "borders = []\n",
    "for i in range(n_dim):\n",
    "    borders.append((center - x_step, center + x_step))\n",
    "borders = torch.tensor(borders).float()\n",
    "soboleng = torch.quasirandom.SobolEngine(dimension=n_dim)\n",
    "X = soboleng.draw(num_init).float()\n",
    "X = X * (borders[:, 1] - borders[:, 0]) + borders[:, 0]\n",
    "y = opt_func(X)"
   ]
  },
  {
   "cell_type": "code",
   "execution_count": 3,
   "metadata": {},
   "outputs": [
    {
     "data": {
      "text/plain": [
       "(tensor([[ 0.7000,  0.7000,  0.7000,  0.7000,  0.7000],\n",
       "         [ 3.2000, -1.8000,  3.2000, -1.8000,  3.2000],\n",
       "         [-1.8000,  3.2000, -1.8000,  3.2000, -1.8000],\n",
       "         [-0.5500, -0.5500,  1.9500, -3.0500,  4.4500],\n",
       "         [ 4.4500,  4.4500, -3.0500,  1.9500, -0.5500],\n",
       "         [ 1.9500, -3.0500, -0.5500, -0.5500, -3.0500],\n",
       "         [-3.0500,  1.9500,  4.4500,  4.4500,  1.9500],\n",
       "         [-2.4250, -1.1750, -1.1750,  2.5750,  1.3250],\n",
       "         [ 2.5750,  3.8250,  3.8250, -2.4250, -3.6750],\n",
       "         [ 5.0750, -3.6750,  1.3250,  5.0750, -1.1750],\n",
       "         [ 0.0750,  1.3250, -3.6750,  0.0750,  3.8250],\n",
       "         [-1.1750, -2.4250,  5.0750,  1.3250,  0.0750],\n",
       "         [ 3.8250,  2.5750,  0.0750, -3.6750,  5.0750],\n",
       "         [ 1.3250,  0.0750, -2.4250,  3.8250,  2.5750],\n",
       "         [-3.6750,  5.0750,  2.5750, -1.1750, -2.4250],\n",
       "         [-3.3625,  0.3875,  4.1375, -0.2375, -1.4875],\n",
       "         [ 1.6375,  5.3875, -0.8625,  4.7625,  3.5125],\n",
       "         [ 4.1375, -2.1125, -3.3625, -2.7375,  1.0125],\n",
       "         [-0.8625,  2.8875,  1.6375,  2.2625, -3.9875],\n",
       "         [ 0.3875, -3.3625,  0.3875, -1.4875,  2.2625]]),\n",
       " tensor([1.5652, 6.0992, 5.4955, 5.7890, 7.2810, 4.7971, 7.5175, 4.1265, 7.4349,\n",
       "         8.2555, 5.4684, 5.8973, 7.7800, 5.3762, 7.2906, 5.5538, 8.2140, 6.4348,\n",
       "         5.7256, 4.3518]))"
      ]
     },
     "execution_count": 3,
     "metadata": {},
     "output_type": "execute_result"
    }
   ],
   "source": [
    "X, y"
   ]
  },
  {
   "cell_type": "code",
   "execution_count": 4,
   "metadata": {},
   "outputs": [
    {
     "name": "stdout",
     "output_type": "stream",
     "text": [
      "Last measurement tensor([ 0.1522,  0.3497,  0.2695,  0.2673, -0.4916]) tensor([0.7288])\n",
      "Best measurement tensor([0.0120, 0.1130, 0.1032, 0.1884, 0.1907]) tensor(0.3089)\n"
     ]
    }
   ],
   "source": [
    "state_dict = None\n",
    "for i in range(100):\n",
    "    GP = lambda X, y, noise, borders: CustomCylindricalGP(X, y.view(-1, 1), noise, borders)\n",
    "    acquisition = lambda gp, y: ExpectedImprovement(gp, y.min(), maximize=False)\n",
    "    objective = lambda x: opt_func(x)\n",
    "    X, y, gp = bo_step(\n",
    "        X,\n",
    "        y.view(-1, 1),\n",
    "        noise=torch.zeros_like(y), # placeholder, not used\n",
    "        objective=objective,\n",
    "        bounds=borders.t(),\n",
    "        GP=GP,\n",
    "        acquisition=acquisition,\n",
    "        q=1,\n",
    "        state_dict=state_dict\n",
    "    )\n",
    "    state_dict = gp.state_dict()\n",
    "    clear_output()\n",
    "    print(\"Last measurement\", X[-1], y[-1])\n",
    "    print(\"Best measurement\", X[y.argmin()], y.min())"
   ]
  },
  {
   "cell_type": "code",
   "execution_count": null,
   "metadata": {},
   "outputs": [],
   "source": []
  },
  {
   "cell_type": "code",
   "execution_count": null,
   "metadata": {},
   "outputs": [],
   "source": []
  },
  {
   "cell_type": "code",
   "execution_count": null,
   "metadata": {},
   "outputs": [],
   "source": []
  }
 ],
 "metadata": {
  "kernelspec": {
   "display_name": "Python 3",
   "language": "python",
   "name": "python3"
  },
  "language_info": {
   "codemirror_mode": {
    "name": "ipython",
    "version": 3
   },
   "file_extension": ".py",
   "mimetype": "text/x-python",
   "name": "python",
   "nbconvert_exporter": "python",
   "pygments_lexer": "ipython3",
   "version": "3.6.10"
  }
 },
 "nbformat": 4,
 "nbformat_minor": 4
}
